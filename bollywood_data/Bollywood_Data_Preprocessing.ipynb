{
 "cells": [
  {
   "cell_type": "code",
   "execution_count": null,
   "metadata": {
    "colab": {
     "base_uri": "https://localhost:8080/"
    },
    "id": "LrEC8A0tFBNr",
    "outputId": "625c22b1-2fa2-4050-844c-7f0f73cba34e"
   },
   "outputs": [
    {
     "name": "stdout",
     "output_type": "stream",
     "text": [
      "Looking in indexes: https://pypi.org/simple, https://us-python.pkg.dev/colab-wheels/public/simple/\n",
      "Requirement already satisfied: tmdbv3api in /usr/local/lib/python3.7/dist-packages (1.7.6)\n",
      "Requirement already satisfied: requests in /usr/local/lib/python3.7/dist-packages (from tmdbv3api) (2.23.0)\n",
      "Requirement already satisfied: urllib3!=1.25.0,!=1.25.1,<1.26,>=1.21.1 in /usr/local/lib/python3.7/dist-packages (from requests->tmdbv3api) (1.24.3)\n",
      "Requirement already satisfied: certifi>=2017.4.17 in /usr/local/lib/python3.7/dist-packages (from requests->tmdbv3api) (2022.5.18.1)\n",
      "Requirement already satisfied: idna<3,>=2.5 in /usr/local/lib/python3.7/dist-packages (from requests->tmdbv3api) (2.10)\n",
      "Requirement already satisfied: chardet<4,>=3.0.2 in /usr/local/lib/python3.7/dist-packages (from requests->tmdbv3api) (3.0.4)\n"
     ]
    }
   ],
   "source": [
    "#import libraries\n",
    "!pip install tmdbv3api\n",
    "import pandas as pd\n",
    "import numpy as np\n",
    "from tmdbv3api import TMDb\n",
    "import json\n",
    "import requests\n",
    "from tmdbv3api import Movie\n",
    "\n",
    "#My TMDB API KEY\n",
    "tmdb = TMDb()\n",
    "tmdb.api_key = '946350b18b862d23ce1763b947a7e3e1'"
   ]
  },
  {
   "cell_type": "markdown",
   "metadata": {
    "id": "BjX3GbR2FBNy"
   },
   "source": [
    "## Functions for data collection and preprocessing"
   ]
  },
  {
   "cell_type": "code",
   "execution_count": null,
   "metadata": {
    "id": "slGfrmLAFBN0"
   },
   "outputs": [],
   "source": [
    "#function for fetching movie id\n",
    "from tmdbv3api import Movie\n",
    "tmdb_movie = Movie() \n",
    "\n",
    "def get_id(x):\n",
    "    result = tmdb_movie.search(x)\n",
    "    if not result:\n",
    "      return np.NaN\n",
    "    else:\n",
    "      movie_id = 0\n",
    "      for i in range(len(result)):\n",
    "        if(result[i]['original_language'] == \"hi\"):\n",
    "          movie_id = result[i]['id']\n",
    "          break\n",
    "      return movie_id"
   ]
  },
  {
   "cell_type": "code",
   "execution_count": null,
   "metadata": {
    "id": "A5Y43TbrFBN2"
   },
   "outputs": [],
   "source": [
    "#function for fetching genres\n",
    "def get_genre(x):\n",
    "    genres = []\n",
    "    result = tmdb_movie.search(x)\n",
    "    if not result:\n",
    "      return np.NaN\n",
    "      \n",
    "    else:\n",
    "      try:\n",
    "        movie_id = get_id(x)  \n",
    "        response = requests.get('https://api.themoviedb.org/3/movie/{}?api_key={}'.format(movie_id,tmdb.api_key))\n",
    "        data_json = response.json()\n",
    "        if data_json['genres']:\n",
    "            genre_str = \" \" \n",
    "            for i in range(0,len(data_json['genres'])):\n",
    "                genres.append(data_json['genres'][i]['name'])\n",
    "            return genre_str.join(genres)\n",
    "        else:\n",
    "            return np.NaN\n",
    "      except:\n",
    "        return np.NaN"
   ]
  },
  {
   "cell_type": "code",
   "execution_count": null,
   "metadata": {
    "id": "13vweAgYFBN3"
   },
   "outputs": [],
   "source": [
    "#function for fetching keywords\n",
    "def get_keywords(x):\n",
    "    keywords = []\n",
    "    result = tmdb_movie.search(x)\n",
    "    \n",
    "    if not result:\n",
    "      return np.NaN\n",
    "    else:\n",
    "      try:\n",
    "        movie_id = get_id(x)   \n",
    "        response = requests.get('https://api.themoviedb.org/3/movie/{}/keywords?api_key={}'.format(movie_id,tmdb.api_key))\n",
    "        data_json = response.json()\n",
    "        if data_json['keywords']:\n",
    "            keywords_str = \" \" \n",
    "            for i in range(0,len(data_json['keywords'])):\n",
    "                keywords.append(data_json['keywords'][i]['name'])\n",
    "            return keywords_str.join(keywords)\n",
    "        else:\n",
    "            return np.NaN\n",
    "      except:\n",
    "        return np.NaN"
   ]
  },
  {
   "cell_type": "code",
   "execution_count": null,
   "metadata": {
    "colab": {
     "base_uri": "https://localhost:8080/",
     "height": 35
    },
    "id": "ypLbmVr-aqps",
    "outputId": "3ed461b8-8932-483a-c1a2-eb2ad5d2028a"
   },
   "outputs": [
    {
     "data": {
      "application/vnd.google.colaboratory.intrinsic+json": {
       "type": "string"
      },
      "text/plain": [
       "'sibling relationship remake'"
      ]
     },
     "execution_count": 5,
     "metadata": {},
     "output_type": "execute_result"
    }
   ],
   "source": [
    "get_keywords('boss')"
   ]
  },
  {
   "cell_type": "code",
   "execution_count": null,
   "metadata": {
    "id": "XX-BELuiFBN5"
   },
   "outputs": [],
   "source": [
    "#function for fetching overview score of movie\n",
    "def get_overview(x):\n",
    "    result = tmdb_movie.search(x)\n",
    "    if not result:\n",
    "      return np.NaN\n",
    "    else:\n",
    "      try:\n",
    "        movie_id = get_id(x)     \n",
    "        response = requests.get('https://api.themoviedb.org/3/movie/{}?api_key={}'.format(movie_id,tmdb.api_key))\n",
    "        data_json = response.json()\n",
    "        if data_json['overview']:\n",
    "            return data_json['overview']\n",
    "        else:\n",
    "            return np.NaN\n",
    "      except:\n",
    "        return np.NaN\n"
   ]
  },
  {
   "cell_type": "code",
   "execution_count": null,
   "metadata": {
    "id": "FBueYaRtFBN6"
   },
   "outputs": [],
   "source": [
    "#function for fetching overview score of movie\n",
    "def get_tagline(x):\n",
    "    result = tmdb_movie.search(x)\n",
    "    if not result:\n",
    "      return np.NaN\n",
    "    else:\n",
    "      try:\n",
    "        movie_id = get_id(x)     \n",
    "        response = requests.get('https://api.themoviedb.org/3/movie/{}?api_key={}'.format(movie_id,tmdb.api_key))\n",
    "        data_json = response.json()\n",
    "        if data_json['tagline']:\n",
    "            return data_json['tagline']\n",
    "        else:\n",
    "            return np.NaN\n",
    "      except:\n",
    "        return np.NaN"
   ]
  },
  {
   "cell_type": "code",
   "execution_count": null,
   "metadata": {
    "id": "M8bROBHdFBN7"
   },
   "outputs": [],
   "source": [
    "#function for fetching popularity score of movie\n",
    "def get_popularity(x):\n",
    "    result = tmdb_movie.search(x)\n",
    "    if not result:\n",
    "      return np.NaN\n",
    "    else:\n",
    "      try:\n",
    "        movie_id = get_id(x)    \n",
    "        response = requests.get('https://api.themoviedb.org/3/movie/{}?api_key={}'.format(movie_id,tmdb.api_key))\n",
    "        data_json = response.json()\n",
    "        if data_json['popularity']:\n",
    "            return data_json['popularity']\n",
    "        else:\n",
    "            return np.NaN\n",
    "      except:\n",
    "        return np.NaN"
   ]
  },
  {
   "cell_type": "code",
   "execution_count": null,
   "metadata": {
    "id": "j1nEeG3yFBN8"
   },
   "outputs": [],
   "source": [
    "#function for fetching vote average of movie\n",
    "def get_vote_average(x):\n",
    "    result = tmdb_movie.search(x)\n",
    "    if not result:\n",
    "      return np.NaN\n",
    "    else:\n",
    "      try:\n",
    "        movie_id = get_id(x)     \n",
    "        response = requests.get('https://api.themoviedb.org/3/movie/{}?api_key={}'.format(movie_id,tmdb.api_key))\n",
    "        data_json = response.json()\n",
    "        if data_json['vote_average']:\n",
    "            return data_json['vote_average']\n",
    "        else:\n",
    "            return np.NaN\n",
    "      except:\n",
    "        return np.NaN"
   ]
  },
  {
   "cell_type": "code",
   "execution_count": null,
   "metadata": {
    "id": "mJVgTdlrFBN9"
   },
   "outputs": [],
   "source": [
    "#function for fetching popularity score of movie\n",
    "def get_vote_count(x):\n",
    "    result = tmdb_movie.search(x)\n",
    "    if not result:\n",
    "      return np.NaN\n",
    "    else:\n",
    "      try:\n",
    "        movie_id = get_id(x)     \n",
    "        response = requests.get('https://api.themoviedb.org/3/movie/{}?api_key={}'.format(movie_id,tmdb.api_key))\n",
    "        data_json = response.json()\n",
    "        if data_json['vote_count']:\n",
    "            return data_json['vote_count']\n",
    "        else:\n",
    "            return np.NaN\n",
    "      except:\n",
    "        return np.NaN"
   ]
  },
  {
   "cell_type": "code",
   "execution_count": null,
   "metadata": {
    "id": "7dwMwlmiFBN-"
   },
   "outputs": [],
   "source": [
    "#functions for fetching cast name\n",
    "def get_actor1(x):\n",
    "    if type(x)==float:\n",
    "        return np.NaN\n",
    "    return ((x.split(\", \")[0]))\n",
    "\n",
    "def get_actor2(x):\n",
    "    \n",
    "    if type(x)==float or len(x.split(\", \")) < 2:\n",
    "        return np.NaN\n",
    "    else:\n",
    "        return (x.split(\", \")[1])\n",
    "\n",
    "def get_actor3(x):\n",
    "    if type(x)==float or len(x.split(\", \")) < 3:\n",
    "        return np.NaN\n",
    "    else:\n",
    "        return (x.split(\", \")[2])"
   ]
  },
  {
   "cell_type": "code",
   "execution_count": null,
   "metadata": {
    "id": "sI_tA1GMFBN_"
   },
   "outputs": [],
   "source": [
    "def preprocess_data(df):\n",
    "    \n",
    "    #if row has NULL entries we remove it from data\n",
    "    df.dropna(inplace=True, thresh=13)\n",
    "    \n",
    "    df = df.rename(columns={'Title':'movie_title','Director': 'director', 'Genre':'genres'})\n",
    "    df = df.loc[:,['id','movie_title','keywords','tagline','overview','director','actor_1','actor_2','actor_3','genres','popularity', 'year', 'vote_average','vote_count']]\n",
    "    \n",
    "    df['genres'] = df['genres'].replace(np.nan, 'na')\n",
    "    df['overview'] = df['overview'].replace(np.nan, 'na')\n",
    "    df['tagline'] = df['tagline'].replace(np.nan, 'na')\n",
    "    df['keywords'] = df['keywords'].replace(np.nan, 'na')\n",
    "    df['director'] = df['director'].replace(np.nan, 'unknown')\n",
    "    df['actor_1'] = df['actor_1'].replace(np.nan, 'unknown')\n",
    "    df['actor_2'] = df['actor_2'].replace(np.nan, 'unknown')\n",
    "    df['actor_3'] = df['actor_3'].replace(np.nan, 'unknown')\n",
    "    df['movie_title'] = df['movie_title'].str.lower()\n",
    "    df['describe'] = df['keywords'] + ' ' + df['tagline'] + ' ' +df['overview'] + ' '+df['actor_1'] + ' ' + df['actor_2'] + ' '+ df['actor_3'] + ' '+ df['director'] +' ' + df['genres'] + ' ' + df['vote_count'].map(str)\n",
    "    \n",
    "    return df"
   ]
  },
  {
   "cell_type": "code",
   "execution_count": null,
   "metadata": {
    "id": "RCb6m2O5FBOA"
   },
   "outputs": [],
   "source": [
    "#function for collecting data of bollywood movies\n",
    "def get_movie_data(year):\n",
    "    #get movie data from wikipedia\n",
    "    link = \"https://en.wikipedia.org/wiki/List_of_Hindi_films_of_\"+year\n",
    "    df1 = pd.read_html(link, header=0)[2]\n",
    "    df2 = pd.read_html(link, header=0)[3]\n",
    "    df3 = pd.read_html(link, header=0)[4]\n",
    "    df4 = pd.read_html(link, header=0)[5]\n",
    "    df = df1.append(df2.append(df3.append(df4,ignore_index=True),ignore_index=True),ignore_index=True)\n",
    "    \n",
    "    #fetch genres, popularity of the movie through tmdb api key\n",
    "    tmdb = TMDb()\n",
    "    tmdb.api_key = '946350b18b862d23ce1763b947a7e3e1'\n",
    "    tmdb_movie = Movie() \n",
    "    \n",
    "    #fetch movie id\n",
    "    df['id'] = df['Title'].map(lambda x: get_id(str(x)))\n",
    "    \n",
    "    #fetch keywords\n",
    "    df['keywords'] = df['Title'].map(lambda x: get_keywords(str(x)))\n",
    "    \n",
    "    #fetch tagline\n",
    "    df['tagline'] = df['Title'].map(lambda x: get_tagline(str(x)))\n",
    "    \n",
    "    #fetch overview\n",
    "    df['overview'] = df['Title'].map(lambda x: get_overview(str(x)))\n",
    "    \n",
    "    #fetch Genre\n",
    "    df['Genre'] = df['Title'].map(lambda x: get_genre(str(x)))\n",
    "    \n",
    "    #fetch poplurity\n",
    "    df['popularity'] = df['Title'].map(lambda x: get_popularity(str(x)))\n",
    "    \n",
    "    #fetch vote average\n",
    "    df['vote_average'] = df['Title'].map(lambda x: get_vote_average(str(x)))\n",
    "    \n",
    "    #fetch vote count\n",
    "    df['vote_count'] = df['Title'].map(lambda x: get_vote_count(str(x)))\n",
    "    \n",
    "    #collect required features\n",
    "    df = df[['id','Title','keywords', 'tagline', 'overview','Director','Cast','Genre','popularity', 'vote_average', 'vote_count']]\n",
    "    \n",
    "    #add actors name and release year of the movie\n",
    "    df['actor_1'] = df['Cast'].map(lambda x: get_actor1(x))\n",
    "    df['actor_2'] = df['Cast'].map(lambda x: get_actor2(x))\n",
    "    df['actor_3'] = df['Cast'].map(lambda x: get_actor3(x))\n",
    "    df['year'] = year\n",
    "\n",
    "    df = df.rename(columns={'Title':'movie_title','Director': 'director', 'Genre':'genres'})\n",
    "    df = df.loc[:,['id','movie_title','keywords','tagline','overview','director','actor_1','actor_2','actor_3','genres','popularity', 'year', 'vote_average','vote_count']]\n",
    "    \n",
    "    #data preprocess\n",
    "    #data = preprocess_data(df)\n",
    "    \n",
    "    return df"
   ]
  },
  {
   "cell_type": "markdown",
   "metadata": {
    "id": "GPT-G7gMFBOA"
   },
   "source": [
    "## Collecting Movies data released after 2000"
   ]
  },
  {
   "cell_type": "code",
   "execution_count": null,
   "metadata": {
    "id": "BA2cNeQBFBOB"
   },
   "outputs": [],
   "source": [
    "#collecting movies of 2000\n",
    "data = get_movie_data('2000')"
   ]
  },
  {
   "cell_type": "code",
   "execution_count": null,
   "metadata": {
    "id": "SV1UPqkQFBOB"
   },
   "outputs": [],
   "source": [
    "#collecting movies of 2001\n",
    "data_2001 = get_movie_data('2001')\n",
    "data = data.append(data_2001,ignore_index=True)"
   ]
  },
  {
   "cell_type": "code",
   "execution_count": null,
   "metadata": {
    "id": "ILEQYwQHFBOC"
   },
   "outputs": [],
   "source": [
    "#collecting movies of 2002\n",
    "data_2002 = get_movie_data('2002')\n",
    "data = data.append(data_2002,ignore_index=True)"
   ]
  },
  {
   "cell_type": "code",
   "execution_count": null,
   "metadata": {
    "id": "YujlvfS6FBOC"
   },
   "outputs": [],
   "source": [
    "#collecting movies of 2003\n",
    "data_2003 = get_movie_data('2003')\n",
    "data = data.append(data_2003,ignore_index=True)"
   ]
  },
  {
   "cell_type": "code",
   "execution_count": null,
   "metadata": {
    "id": "gkiUvSdiFBOC"
   },
   "outputs": [],
   "source": [
    "#collecting movies of 2004\n",
    "data_2004 = get_movie_data('2004')\n",
    "data = data.append(data_2004,ignore_index=True)"
   ]
  },
  {
   "cell_type": "code",
   "execution_count": null,
   "metadata": {
    "id": "1efv2qNsFBOD"
   },
   "outputs": [],
   "source": [
    "#collecting movies of 2005\n",
    "data_2005 = get_movie_data('2005')\n",
    "data = data.append(data_2005,ignore_index=True)"
   ]
  },
  {
   "cell_type": "code",
   "execution_count": null,
   "metadata": {
    "id": "2JIzFR-DFBOD"
   },
   "outputs": [],
   "source": [
    "#collecting movies of 2006\n",
    "data_2006 = get_movie_data('2006')\n",
    "data = data.append(data_2006,ignore_index=True)"
   ]
  },
  {
   "cell_type": "code",
   "execution_count": null,
   "metadata": {
    "id": "4Ev8v12NFBOE"
   },
   "outputs": [],
   "source": [
    "#collecting movies of 2007\n",
    "data_2007 = get_movie_data('2007')\n",
    "data = data.append(data_2007,ignore_index=True)"
   ]
  },
  {
   "cell_type": "code",
   "execution_count": null,
   "metadata": {
    "id": "N3pDm-XdFBOE"
   },
   "outputs": [],
   "source": [
    "#collecting movies of 2008\n",
    "data_2008 = get_movie_data('2008')\n",
    "data = data.append(data_2008,ignore_index=True)"
   ]
  },
  {
   "cell_type": "code",
   "execution_count": null,
   "metadata": {
    "id": "9emB7czjFBOG"
   },
   "outputs": [],
   "source": [
    "#collecting movies of 2009\n",
    "data_2009 = get_movie_data('2009')\n",
    "data = data.append(data_2009,ignore_index=True)"
   ]
  },
  {
   "cell_type": "code",
   "execution_count": null,
   "metadata": {
    "id": "TwiLpyaeFBOG"
   },
   "outputs": [],
   "source": [
    "#collecting movies of 2010\n",
    "data_2010 = get_movie_data('2010')\n",
    "data = data.append(data_2010,ignore_index=True)"
   ]
  },
  {
   "cell_type": "code",
   "execution_count": null,
   "metadata": {
    "id": "XqRFxziwFBOH"
   },
   "outputs": [],
   "source": [
    "#collecting movies of 2011\n",
    "data_2011 = get_movie_data('2011')\n",
    "data = data.append(data_2011,ignore_index=True)"
   ]
  },
  {
   "cell_type": "code",
   "execution_count": null,
   "metadata": {
    "id": "wm3fVHq8FBOH"
   },
   "outputs": [],
   "source": [
    "#collecting movies of 2012\n",
    "data_2012 = get_movie_data('2012')\n",
    "data = data.append(data_2012,ignore_index=True)"
   ]
  },
  {
   "cell_type": "code",
   "execution_count": null,
   "metadata": {
    "id": "S7TY12miFBOI"
   },
   "outputs": [],
   "source": [
    "#collecting movies of 2013\n",
    "data_2013 = get_movie_data('2013')\n",
    "data = data.append(data_2013,ignore_index=True)"
   ]
  },
  {
   "cell_type": "code",
   "execution_count": null,
   "metadata": {
    "id": "U0y4lYd1FBOI"
   },
   "outputs": [],
   "source": [
    "#collecting movies of 2014\n",
    "data_2014 = get_movie_data('2014')\n",
    "data = data.append(data_2014,ignore_index=True)"
   ]
  },
  {
   "cell_type": "code",
   "execution_count": null,
   "metadata": {
    "id": "t2kC16AeFBOI"
   },
   "outputs": [],
   "source": [
    "#collecting movies of 2015\n",
    "data_2015 = get_movie_data('2015')\n",
    "data = data.append(data_2015,ignore_index=True)"
   ]
  },
  {
   "cell_type": "code",
   "execution_count": null,
   "metadata": {
    "id": "sAHqHRdzFBOI"
   },
   "outputs": [],
   "source": [
    "#collecting movies of 2016\n",
    "data_2016 = get_movie_data('2016')\n",
    "data = data.append(data_2016,ignore_index=True)"
   ]
  },
  {
   "cell_type": "code",
   "execution_count": null,
   "metadata": {
    "id": "WY1QFJQLFBOJ"
   },
   "outputs": [],
   "source": [
    "#collecting movies of 2017\n",
    "data_2017 = get_movie_data('2017')\n",
    "data = data.append(data_2017,ignore_index=True)"
   ]
  },
  {
   "cell_type": "code",
   "execution_count": null,
   "metadata": {
    "id": "ofu59AhvFBOJ"
   },
   "outputs": [],
   "source": [
    "#collecting movies of 2018\n",
    "data_2018 = get_movie_data('2018')\n",
    "data = data.append(data_2018,ignore_index=True)"
   ]
  },
  {
   "cell_type": "code",
   "execution_count": null,
   "metadata": {
    "id": "KinNheUYFBOJ"
   },
   "outputs": [],
   "source": [
    "#collecting movies of 2019\n",
    "data_2019 = get_movie_data('2019')\n",
    "data = data.append(data_2019,ignore_index=True)"
   ]
  },
  {
   "cell_type": "code",
   "execution_count": null,
   "metadata": {
    "id": "EoZvu_3rFBOK"
   },
   "outputs": [],
   "source": [
    "#collecting movies of 2020\n",
    "data_2020 = get_movie_data('2020')\n",
    "data = data.append(data_2020,ignore_index=True)"
   ]
  },
  {
   "cell_type": "code",
   "execution_count": null,
   "metadata": {
    "id": "depdMCgwFBOK"
   },
   "outputs": [],
   "source": [
    "#collecting movies of 2021\n",
    "data_2021 = get_movie_data('2021')\n",
    "data = data.append(data_2021,ignore_index=True)"
   ]
  },
  {
   "cell_type": "code",
   "execution_count": null,
   "metadata": {
    "id": "-pS3ymUkFBOL"
   },
   "outputs": [],
   "source": [
    "#collecting movies of 2022\n",
    "data_2022 = get_movie_data('2022')\n",
    "data = data.append(data_2022,ignore_index=True)"
   ]
  },
  {
   "cell_type": "code",
   "execution_count": null,
   "metadata": {
    "colab": {
     "base_uri": "https://localhost:8080/",
     "height": 783
    },
    "id": "450_iwzTStS8",
    "outputId": "e6c529fc-ec0b-4ad8-a611-5b60593ecc35"
   },
   "outputs": [
    {
     "data": {
      "text/html": [
       "\n",
       "  <div id=\"df-a2e6f4e1-d432-48ee-b071-1cf71c01fb73\">\n",
       "    <div class=\"colab-df-container\">\n",
       "      <div>\n",
       "<style scoped>\n",
       "    .dataframe tbody tr th:only-of-type {\n",
       "        vertical-align: middle;\n",
       "    }\n",
       "\n",
       "    .dataframe tbody tr th {\n",
       "        vertical-align: top;\n",
       "    }\n",
       "\n",
       "    .dataframe thead th {\n",
       "        text-align: right;\n",
       "    }\n",
       "</style>\n",
       "<table border=\"1\" class=\"dataframe\">\n",
       "  <thead>\n",
       "    <tr style=\"text-align: right;\">\n",
       "      <th></th>\n",
       "      <th>id</th>\n",
       "      <th>movie_title</th>\n",
       "      <th>keywords</th>\n",
       "      <th>tagline</th>\n",
       "      <th>overview</th>\n",
       "      <th>director</th>\n",
       "      <th>actor_1</th>\n",
       "      <th>actor_2</th>\n",
       "      <th>actor_3</th>\n",
       "      <th>genres</th>\n",
       "      <th>popularity</th>\n",
       "      <th>year</th>\n",
       "      <th>vote_average</th>\n",
       "      <th>vote_count</th>\n",
       "    </tr>\n",
       "  </thead>\n",
       "  <tbody>\n",
       "    <tr>\n",
       "      <th>0</th>\n",
       "      <td>0.0</td>\n",
       "      <td>NaN</td>\n",
       "      <td>NaN</td>\n",
       "      <td>NaN</td>\n",
       "      <td>NaN</td>\n",
       "      <td>NaN</td>\n",
       "      <td>NaN</td>\n",
       "      <td>NaN</td>\n",
       "      <td>NaN</td>\n",
       "      <td>NaN</td>\n",
       "      <td>NaN</td>\n",
       "      <td>2000</td>\n",
       "      <td>NaN</td>\n",
       "      <td>NaN</td>\n",
       "    </tr>\n",
       "    <tr>\n",
       "      <th>1</th>\n",
       "      <td>0.0</td>\n",
       "      <td>NaN</td>\n",
       "      <td>NaN</td>\n",
       "      <td>NaN</td>\n",
       "      <td>NaN</td>\n",
       "      <td>NaN</td>\n",
       "      <td>NaN</td>\n",
       "      <td>NaN</td>\n",
       "      <td>NaN</td>\n",
       "      <td>NaN</td>\n",
       "      <td>NaN</td>\n",
       "      <td>2000</td>\n",
       "      <td>NaN</td>\n",
       "      <td>NaN</td>\n",
       "    </tr>\n",
       "    <tr>\n",
       "      <th>2</th>\n",
       "      <td>0.0</td>\n",
       "      <td>NaN</td>\n",
       "      <td>NaN</td>\n",
       "      <td>NaN</td>\n",
       "      <td>NaN</td>\n",
       "      <td>NaN</td>\n",
       "      <td>NaN</td>\n",
       "      <td>NaN</td>\n",
       "      <td>NaN</td>\n",
       "      <td>NaN</td>\n",
       "      <td>NaN</td>\n",
       "      <td>2000</td>\n",
       "      <td>NaN</td>\n",
       "      <td>NaN</td>\n",
       "    </tr>\n",
       "    <tr>\n",
       "      <th>3</th>\n",
       "      <td>0.0</td>\n",
       "      <td>NaN</td>\n",
       "      <td>NaN</td>\n",
       "      <td>NaN</td>\n",
       "      <td>NaN</td>\n",
       "      <td>NaN</td>\n",
       "      <td>NaN</td>\n",
       "      <td>NaN</td>\n",
       "      <td>NaN</td>\n",
       "      <td>NaN</td>\n",
       "      <td>NaN</td>\n",
       "      <td>2000</td>\n",
       "      <td>NaN</td>\n",
       "      <td>NaN</td>\n",
       "    </tr>\n",
       "    <tr>\n",
       "      <th>4</th>\n",
       "      <td>0.0</td>\n",
       "      <td>NaN</td>\n",
       "      <td>NaN</td>\n",
       "      <td>NaN</td>\n",
       "      <td>NaN</td>\n",
       "      <td>NaN</td>\n",
       "      <td>NaN</td>\n",
       "      <td>NaN</td>\n",
       "      <td>NaN</td>\n",
       "      <td>NaN</td>\n",
       "      <td>NaN</td>\n",
       "      <td>2000</td>\n",
       "      <td>NaN</td>\n",
       "      <td>NaN</td>\n",
       "    </tr>\n",
       "    <tr>\n",
       "      <th>...</th>\n",
       "      <td>...</td>\n",
       "      <td>...</td>\n",
       "      <td>...</td>\n",
       "      <td>...</td>\n",
       "      <td>...</td>\n",
       "      <td>...</td>\n",
       "      <td>...</td>\n",
       "      <td>...</td>\n",
       "      <td>...</td>\n",
       "      <td>...</td>\n",
       "      <td>...</td>\n",
       "      <td>...</td>\n",
       "      <td>...</td>\n",
       "      <td>...</td>\n",
       "    </tr>\n",
       "    <tr>\n",
       "      <th>2649</th>\n",
       "      <td>796207.0</td>\n",
       "      <td>Dobaaraa</td>\n",
       "      <td>NaN</td>\n",
       "      <td>NaN</td>\n",
       "      <td>NaN</td>\n",
       "      <td>Anurag Kashyap</td>\n",
       "      <td>Taapsee PannuPavail Gulati</td>\n",
       "      <td>NaN</td>\n",
       "      <td>NaN</td>\n",
       "      <td>Science Fiction Thriller Horror</td>\n",
       "      <td>0.932</td>\n",
       "      <td>2022</td>\n",
       "      <td>NaN</td>\n",
       "      <td>NaN</td>\n",
       "    </tr>\n",
       "    <tr>\n",
       "      <th>2650</th>\n",
       "      <td>NaN</td>\n",
       "      <td>Liger[a]</td>\n",
       "      <td>NaN</td>\n",
       "      <td>NaN</td>\n",
       "      <td>NaN</td>\n",
       "      <td>Puri Jagannadh</td>\n",
       "      <td>Vijay DeverakondaAnanya PandeyMike Tyson</td>\n",
       "      <td>NaN</td>\n",
       "      <td>NaN</td>\n",
       "      <td>NaN</td>\n",
       "      <td>NaN</td>\n",
       "      <td>2022</td>\n",
       "      <td>NaN</td>\n",
       "      <td>NaN</td>\n",
       "    </tr>\n",
       "    <tr>\n",
       "      <th>2651</th>\n",
       "      <td>0.0</td>\n",
       "      <td>Thai Massage</td>\n",
       "      <td>NaN</td>\n",
       "      <td>NaN</td>\n",
       "      <td>NaN</td>\n",
       "      <td>Mangesh Hadawale</td>\n",
       "      <td>DivyennduGajraj RaoRajpal YadavSunny HindujaVi...</td>\n",
       "      <td>NaN</td>\n",
       "      <td>NaN</td>\n",
       "      <td>NaN</td>\n",
       "      <td>NaN</td>\n",
       "      <td>2022</td>\n",
       "      <td>NaN</td>\n",
       "      <td>NaN</td>\n",
       "    </tr>\n",
       "    <tr>\n",
       "      <th>2652</th>\n",
       "      <td>496331.0</td>\n",
       "      <td>Brahmāstra</td>\n",
       "      <td>superhero</td>\n",
       "      <td>The God of all weapons.</td>\n",
       "      <td>NaN</td>\n",
       "      <td>Ayan Mukerji</td>\n",
       "      <td>Amitabh BachchanRanbir KapoorAlia BhattMouni R...</td>\n",
       "      <td>NaN</td>\n",
       "      <td>NaN</td>\n",
       "      <td>Adventure Action Fantasy</td>\n",
       "      <td>1.789</td>\n",
       "      <td>2022</td>\n",
       "      <td>NaN</td>\n",
       "      <td>NaN</td>\n",
       "    </tr>\n",
       "    <tr>\n",
       "      <th>2653</th>\n",
       "      <td>851783.0</td>\n",
       "      <td>Vikram Vedha</td>\n",
       "      <td>NaN</td>\n",
       "      <td>NaN</td>\n",
       "      <td>Vikram is a brave and honest police inspector ...</td>\n",
       "      <td>Pushkar–Gayathri</td>\n",
       "      <td>Saif Ali KhanHrithik RoshanRadhika Apte</td>\n",
       "      <td>NaN</td>\n",
       "      <td>NaN</td>\n",
       "      <td>Action Crime Thriller</td>\n",
       "      <td>1.409</td>\n",
       "      <td>2022</td>\n",
       "      <td>NaN</td>\n",
       "      <td>NaN</td>\n",
       "    </tr>\n",
       "  </tbody>\n",
       "</table>\n",
       "<p>2654 rows × 14 columns</p>\n",
       "</div>\n",
       "      <button class=\"colab-df-convert\" onclick=\"convertToInteractive('df-a2e6f4e1-d432-48ee-b071-1cf71c01fb73')\"\n",
       "              title=\"Convert this dataframe to an interactive table.\"\n",
       "              style=\"display:none;\">\n",
       "        \n",
       "  <svg xmlns=\"http://www.w3.org/2000/svg\" height=\"24px\"viewBox=\"0 0 24 24\"\n",
       "       width=\"24px\">\n",
       "    <path d=\"M0 0h24v24H0V0z\" fill=\"none\"/>\n",
       "    <path d=\"M18.56 5.44l.94 2.06.94-2.06 2.06-.94-2.06-.94-.94-2.06-.94 2.06-2.06.94zm-11 1L8.5 8.5l.94-2.06 2.06-.94-2.06-.94L8.5 2.5l-.94 2.06-2.06.94zm10 10l.94 2.06.94-2.06 2.06-.94-2.06-.94-.94-2.06-.94 2.06-2.06.94z\"/><path d=\"M17.41 7.96l-1.37-1.37c-.4-.4-.92-.59-1.43-.59-.52 0-1.04.2-1.43.59L10.3 9.45l-7.72 7.72c-.78.78-.78 2.05 0 2.83L4 21.41c.39.39.9.59 1.41.59.51 0 1.02-.2 1.41-.59l7.78-7.78 2.81-2.81c.8-.78.8-2.07 0-2.86zM5.41 20L4 18.59l7.72-7.72 1.47 1.35L5.41 20z\"/>\n",
       "  </svg>\n",
       "      </button>\n",
       "      \n",
       "  <style>\n",
       "    .colab-df-container {\n",
       "      display:flex;\n",
       "      flex-wrap:wrap;\n",
       "      gap: 12px;\n",
       "    }\n",
       "\n",
       "    .colab-df-convert {\n",
       "      background-color: #E8F0FE;\n",
       "      border: none;\n",
       "      border-radius: 50%;\n",
       "      cursor: pointer;\n",
       "      display: none;\n",
       "      fill: #1967D2;\n",
       "      height: 32px;\n",
       "      padding: 0 0 0 0;\n",
       "      width: 32px;\n",
       "    }\n",
       "\n",
       "    .colab-df-convert:hover {\n",
       "      background-color: #E2EBFA;\n",
       "      box-shadow: 0px 1px 2px rgba(60, 64, 67, 0.3), 0px 1px 3px 1px rgba(60, 64, 67, 0.15);\n",
       "      fill: #174EA6;\n",
       "    }\n",
       "\n",
       "    [theme=dark] .colab-df-convert {\n",
       "      background-color: #3B4455;\n",
       "      fill: #D2E3FC;\n",
       "    }\n",
       "\n",
       "    [theme=dark] .colab-df-convert:hover {\n",
       "      background-color: #434B5C;\n",
       "      box-shadow: 0px 1px 3px 1px rgba(0, 0, 0, 0.15);\n",
       "      filter: drop-shadow(0px 1px 2px rgba(0, 0, 0, 0.3));\n",
       "      fill: #FFFFFF;\n",
       "    }\n",
       "  </style>\n",
       "\n",
       "      <script>\n",
       "        const buttonEl =\n",
       "          document.querySelector('#df-a2e6f4e1-d432-48ee-b071-1cf71c01fb73 button.colab-df-convert');\n",
       "        buttonEl.style.display =\n",
       "          google.colab.kernel.accessAllowed ? 'block' : 'none';\n",
       "\n",
       "        async function convertToInteractive(key) {\n",
       "          const element = document.querySelector('#df-a2e6f4e1-d432-48ee-b071-1cf71c01fb73');\n",
       "          const dataTable =\n",
       "            await google.colab.kernel.invokeFunction('convertToInteractive',\n",
       "                                                     [key], {});\n",
       "          if (!dataTable) return;\n",
       "\n",
       "          const docLinkHtml = 'Like what you see? Visit the ' +\n",
       "            '<a target=\"_blank\" href=https://colab.research.google.com/notebooks/data_table.ipynb>data table notebook</a>'\n",
       "            + ' to learn more about interactive tables.';\n",
       "          element.innerHTML = '';\n",
       "          dataTable['output_type'] = 'display_data';\n",
       "          await google.colab.output.renderOutput(dataTable, element);\n",
       "          const docLink = document.createElement('div');\n",
       "          docLink.innerHTML = docLinkHtml;\n",
       "          element.appendChild(docLink);\n",
       "        }\n",
       "      </script>\n",
       "    </div>\n",
       "  </div>\n",
       "  "
      ],
      "text/plain": [
       "            id   movie_title   keywords                  tagline  \\\n",
       "0          0.0           NaN        NaN                      NaN   \n",
       "1          0.0           NaN        NaN                      NaN   \n",
       "2          0.0           NaN        NaN                      NaN   \n",
       "3          0.0           NaN        NaN                      NaN   \n",
       "4          0.0           NaN        NaN                      NaN   \n",
       "...        ...           ...        ...                      ...   \n",
       "2649  796207.0      Dobaaraa        NaN                      NaN   \n",
       "2650       NaN      Liger[a]        NaN                      NaN   \n",
       "2651       0.0  Thai Massage        NaN                      NaN   \n",
       "2652  496331.0    Brahmāstra  superhero  The God of all weapons.   \n",
       "2653  851783.0  Vikram Vedha        NaN                      NaN   \n",
       "\n",
       "                                               overview          director  \\\n",
       "0                                                   NaN               NaN   \n",
       "1                                                   NaN               NaN   \n",
       "2                                                   NaN               NaN   \n",
       "3                                                   NaN               NaN   \n",
       "4                                                   NaN               NaN   \n",
       "...                                                 ...               ...   \n",
       "2649                                                NaN    Anurag Kashyap   \n",
       "2650                                                NaN    Puri Jagannadh   \n",
       "2651                                                NaN  Mangesh Hadawale   \n",
       "2652                                                NaN      Ayan Mukerji   \n",
       "2653  Vikram is a brave and honest police inspector ...  Pushkar–Gayathri   \n",
       "\n",
       "                                                actor_1 actor_2 actor_3  \\\n",
       "0                                                   NaN     NaN     NaN   \n",
       "1                                                   NaN     NaN     NaN   \n",
       "2                                                   NaN     NaN     NaN   \n",
       "3                                                   NaN     NaN     NaN   \n",
       "4                                                   NaN     NaN     NaN   \n",
       "...                                                 ...     ...     ...   \n",
       "2649                         Taapsee PannuPavail Gulati     NaN     NaN   \n",
       "2650           Vijay DeverakondaAnanya PandeyMike Tyson     NaN     NaN   \n",
       "2651  DivyennduGajraj RaoRajpal YadavSunny HindujaVi...     NaN     NaN   \n",
       "2652  Amitabh BachchanRanbir KapoorAlia BhattMouni R...     NaN     NaN   \n",
       "2653            Saif Ali KhanHrithik RoshanRadhika Apte     NaN     NaN   \n",
       "\n",
       "                               genres  popularity  year  vote_average  \\\n",
       "0                                 NaN         NaN  2000           NaN   \n",
       "1                                 NaN         NaN  2000           NaN   \n",
       "2                                 NaN         NaN  2000           NaN   \n",
       "3                                 NaN         NaN  2000           NaN   \n",
       "4                                 NaN         NaN  2000           NaN   \n",
       "...                               ...         ...   ...           ...   \n",
       "2649  Science Fiction Thriller Horror       0.932  2022           NaN   \n",
       "2650                              NaN         NaN  2022           NaN   \n",
       "2651                              NaN         NaN  2022           NaN   \n",
       "2652         Adventure Action Fantasy       1.789  2022           NaN   \n",
       "2653            Action Crime Thriller       1.409  2022           NaN   \n",
       "\n",
       "      vote_count  \n",
       "0            NaN  \n",
       "1            NaN  \n",
       "2            NaN  \n",
       "3            NaN  \n",
       "4            NaN  \n",
       "...          ...  \n",
       "2649         NaN  \n",
       "2650         NaN  \n",
       "2651         NaN  \n",
       "2652         NaN  \n",
       "2653         NaN  \n",
       "\n",
       "[2654 rows x 14 columns]"
      ]
     },
     "execution_count": 38,
     "metadata": {},
     "output_type": "execute_result"
    }
   ],
   "source": [
    "data"
   ]
  },
  {
   "cell_type": "markdown",
   "metadata": {
    "id": "D6FNW6LJaNTT"
   },
   "source": [
    "Data Preprocessing "
   ]
  },
  {
   "cell_type": "code",
   "execution_count": null,
   "metadata": {
    "colab": {
     "base_uri": "https://localhost:8080/"
    },
    "id": "po8Bd-7SSw0N",
    "outputId": "c177893d-5f51-48a4-a9a8-083ad5c0d4bd"
   },
   "outputs": [
    {
     "data": {
      "text/plain": [
       "id               186\n",
       "movie_title      274\n",
       "keywords        1906\n",
       "tagline         2071\n",
       "overview         763\n",
       "director         452\n",
       "actor_1          467\n",
       "actor_2          972\n",
       "actor_3         1243\n",
       "genres           910\n",
       "popularity       742\n",
       "year               0\n",
       "vote_average    1031\n",
       "vote_count      1031\n",
       "dtype: int64"
      ]
     },
     "execution_count": 48,
     "metadata": {},
     "output_type": "execute_result"
    }
   ],
   "source": [
    "data.isna().sum()"
   ]
  },
  {
   "cell_type": "code",
   "execution_count": null,
   "metadata": {
    "id": "Yf9ddjM3cIok"
   },
   "outputs": [],
   "source": [
    "data1 = data.drop(['tagline'], axis = 1, inplace=True)"
   ]
  },
  {
   "cell_type": "code",
   "execution_count": null,
   "metadata": {
    "id": "JTrqeOK4cYQN"
   },
   "outputs": [],
   "source": [
    "data = data1 "
   ]
  },
  {
   "cell_type": "code",
   "execution_count": null,
   "metadata": {
    "id": "pRxMr066cYnu"
   },
   "outputs": [],
   "source": [
    "data2 = data.drop(['keywords'], axis = 1, inplace=True)"
   ]
  },
  {
   "cell_type": "code",
   "execution_count": null,
   "metadata": {
    "id": "WwxJHOeccYqY"
   },
   "outputs": [],
   "source": [
    "data = data[data['id']!=0.0]"
   ]
  },
  {
   "cell_type": "code",
   "execution_count": null,
   "metadata": {
    "colab": {
     "base_uri": "https://localhost:8080/",
     "height": 1000
    },
    "id": "_pyAicuweVlw",
    "outputId": "6f01c790-c542-41c1-c145-8efe5ac50c1c"
   },
   "outputs": [
    {
     "data": {
      "text/html": [
       "\n",
       "  <div id=\"df-9cbe5396-29dd-4198-a611-5bbfe32f0e1b\">\n",
       "    <div class=\"colab-df-container\">\n",
       "      <div>\n",
       "<style scoped>\n",
       "    .dataframe tbody tr th:only-of-type {\n",
       "        vertical-align: middle;\n",
       "    }\n",
       "\n",
       "    .dataframe tbody tr th {\n",
       "        vertical-align: top;\n",
       "    }\n",
       "\n",
       "    .dataframe thead th {\n",
       "        text-align: right;\n",
       "    }\n",
       "</style>\n",
       "<table border=\"1\" class=\"dataframe\">\n",
       "  <thead>\n",
       "    <tr style=\"text-align: right;\">\n",
       "      <th></th>\n",
       "      <th>id</th>\n",
       "      <th>movie_title</th>\n",
       "      <th>overview</th>\n",
       "      <th>director</th>\n",
       "      <th>actor_1</th>\n",
       "      <th>actor_2</th>\n",
       "      <th>actor_3</th>\n",
       "      <th>genres</th>\n",
       "      <th>popularity</th>\n",
       "      <th>year</th>\n",
       "      <th>vote_average</th>\n",
       "      <th>vote_count</th>\n",
       "    </tr>\n",
       "  </thead>\n",
       "  <tbody>\n",
       "    <tr>\n",
       "      <th>23</th>\n",
       "      <td>11518.0</td>\n",
       "      <td>Mohabbatein</td>\n",
       "      <td>At a prestigious all-male university, three fr...</td>\n",
       "      <td>NaN</td>\n",
       "      <td>NaN</td>\n",
       "      <td>NaN</td>\n",
       "      <td>NaN</td>\n",
       "      <td>Drama Romance</td>\n",
       "      <td>9.734</td>\n",
       "      <td>2000</td>\n",
       "      <td>7.0</td>\n",
       "      <td>171.0</td>\n",
       "    </tr>\n",
       "    <tr>\n",
       "      <th>24</th>\n",
       "      <td>16987.0</td>\n",
       "      <td>Kaho Naa... Pyaar Hai</td>\n",
       "      <td>Life is paradise for an upright young man and ...</td>\n",
       "      <td>NaN</td>\n",
       "      <td>NaN</td>\n",
       "      <td>NaN</td>\n",
       "      <td>NaN</td>\n",
       "      <td>Romance Drama</td>\n",
       "      <td>6.129</td>\n",
       "      <td>2000</td>\n",
       "      <td>6.9</td>\n",
       "      <td>97.0</td>\n",
       "    </tr>\n",
       "    <tr>\n",
       "      <th>25</th>\n",
       "      <td>46406.0</td>\n",
       "      <td>Mission Kashmir</td>\n",
       "      <td>A police officer adopts the son and sole survi...</td>\n",
       "      <td>NaN</td>\n",
       "      <td>NaN</td>\n",
       "      <td>NaN</td>\n",
       "      <td>NaN</td>\n",
       "      <td>Action Drama Thriller</td>\n",
       "      <td>3.105</td>\n",
       "      <td>2000</td>\n",
       "      <td>6.3</td>\n",
       "      <td>41.0</td>\n",
       "    </tr>\n",
       "    <tr>\n",
       "      <th>26</th>\n",
       "      <td>161223.0</td>\n",
       "      <td>Dulhan Hum Le Jayenge</td>\n",
       "      <td>Sapna has lost her parents at an early age and...</td>\n",
       "      <td>NaN</td>\n",
       "      <td>NaN</td>\n",
       "      <td>NaN</td>\n",
       "      <td>NaN</td>\n",
       "      <td>Comedy Romance</td>\n",
       "      <td>2.460</td>\n",
       "      <td>2000</td>\n",
       "      <td>5.7</td>\n",
       "      <td>21.0</td>\n",
       "    </tr>\n",
       "    <tr>\n",
       "      <th>27</th>\n",
       "      <td>166231.0</td>\n",
       "      <td>Refugee</td>\n",
       "      <td>The films tells the story of an un-named India...</td>\n",
       "      <td>NaN</td>\n",
       "      <td>NaN</td>\n",
       "      <td>NaN</td>\n",
       "      <td>NaN</td>\n",
       "      <td>Drama Music Romance</td>\n",
       "      <td>2.607</td>\n",
       "      <td>2000</td>\n",
       "      <td>6.1</td>\n",
       "      <td>13.0</td>\n",
       "    </tr>\n",
       "    <tr>\n",
       "      <th>...</th>\n",
       "      <td>...</td>\n",
       "      <td>...</td>\n",
       "      <td>...</td>\n",
       "      <td>...</td>\n",
       "      <td>...</td>\n",
       "      <td>...</td>\n",
       "      <td>...</td>\n",
       "      <td>...</td>\n",
       "      <td>...</td>\n",
       "      <td>...</td>\n",
       "      <td>...</td>\n",
       "      <td>...</td>\n",
       "    </tr>\n",
       "    <tr>\n",
       "      <th>2648</th>\n",
       "      <td>601635.0</td>\n",
       "      <td>Laal Singh Chaddha</td>\n",
       "      <td>Events in India's history unfold through the p...</td>\n",
       "      <td>Advait Chandan</td>\n",
       "      <td>Aamir KhanKareena KapoorNaga Chaitanya</td>\n",
       "      <td>NaN</td>\n",
       "      <td>NaN</td>\n",
       "      <td>Drama Comedy Romance</td>\n",
       "      <td>2.586</td>\n",
       "      <td>2022</td>\n",
       "      <td>NaN</td>\n",
       "      <td>NaN</td>\n",
       "    </tr>\n",
       "    <tr>\n",
       "      <th>2649</th>\n",
       "      <td>796207.0</td>\n",
       "      <td>Dobaaraa</td>\n",
       "      <td>NaN</td>\n",
       "      <td>Anurag Kashyap</td>\n",
       "      <td>Taapsee PannuPavail Gulati</td>\n",
       "      <td>NaN</td>\n",
       "      <td>NaN</td>\n",
       "      <td>Science Fiction Thriller Horror</td>\n",
       "      <td>0.932</td>\n",
       "      <td>2022</td>\n",
       "      <td>NaN</td>\n",
       "      <td>NaN</td>\n",
       "    </tr>\n",
       "    <tr>\n",
       "      <th>2650</th>\n",
       "      <td>NaN</td>\n",
       "      <td>Liger[a]</td>\n",
       "      <td>NaN</td>\n",
       "      <td>Puri Jagannadh</td>\n",
       "      <td>Vijay DeverakondaAnanya PandeyMike Tyson</td>\n",
       "      <td>NaN</td>\n",
       "      <td>NaN</td>\n",
       "      <td>NaN</td>\n",
       "      <td>NaN</td>\n",
       "      <td>2022</td>\n",
       "      <td>NaN</td>\n",
       "      <td>NaN</td>\n",
       "    </tr>\n",
       "    <tr>\n",
       "      <th>2652</th>\n",
       "      <td>496331.0</td>\n",
       "      <td>Brahmāstra</td>\n",
       "      <td>NaN</td>\n",
       "      <td>Ayan Mukerji</td>\n",
       "      <td>Amitabh BachchanRanbir KapoorAlia BhattMouni R...</td>\n",
       "      <td>NaN</td>\n",
       "      <td>NaN</td>\n",
       "      <td>Adventure Action Fantasy</td>\n",
       "      <td>1.789</td>\n",
       "      <td>2022</td>\n",
       "      <td>NaN</td>\n",
       "      <td>NaN</td>\n",
       "    </tr>\n",
       "    <tr>\n",
       "      <th>2653</th>\n",
       "      <td>851783.0</td>\n",
       "      <td>Vikram Vedha</td>\n",
       "      <td>Vikram is a brave and honest police inspector ...</td>\n",
       "      <td>Pushkar–Gayathri</td>\n",
       "      <td>Saif Ali KhanHrithik RoshanRadhika Apte</td>\n",
       "      <td>NaN</td>\n",
       "      <td>NaN</td>\n",
       "      <td>Action Crime Thriller</td>\n",
       "      <td>1.409</td>\n",
       "      <td>2022</td>\n",
       "      <td>NaN</td>\n",
       "      <td>NaN</td>\n",
       "    </tr>\n",
       "  </tbody>\n",
       "</table>\n",
       "<p>2098 rows × 12 columns</p>\n",
       "</div>\n",
       "      <button class=\"colab-df-convert\" onclick=\"convertToInteractive('df-9cbe5396-29dd-4198-a611-5bbfe32f0e1b')\"\n",
       "              title=\"Convert this dataframe to an interactive table.\"\n",
       "              style=\"display:none;\">\n",
       "        \n",
       "  <svg xmlns=\"http://www.w3.org/2000/svg\" height=\"24px\"viewBox=\"0 0 24 24\"\n",
       "       width=\"24px\">\n",
       "    <path d=\"M0 0h24v24H0V0z\" fill=\"none\"/>\n",
       "    <path d=\"M18.56 5.44l.94 2.06.94-2.06 2.06-.94-2.06-.94-.94-2.06-.94 2.06-2.06.94zm-11 1L8.5 8.5l.94-2.06 2.06-.94-2.06-.94L8.5 2.5l-.94 2.06-2.06.94zm10 10l.94 2.06.94-2.06 2.06-.94-2.06-.94-.94-2.06-.94 2.06-2.06.94z\"/><path d=\"M17.41 7.96l-1.37-1.37c-.4-.4-.92-.59-1.43-.59-.52 0-1.04.2-1.43.59L10.3 9.45l-7.72 7.72c-.78.78-.78 2.05 0 2.83L4 21.41c.39.39.9.59 1.41.59.51 0 1.02-.2 1.41-.59l7.78-7.78 2.81-2.81c.8-.78.8-2.07 0-2.86zM5.41 20L4 18.59l7.72-7.72 1.47 1.35L5.41 20z\"/>\n",
       "  </svg>\n",
       "      </button>\n",
       "      \n",
       "  <style>\n",
       "    .colab-df-container {\n",
       "      display:flex;\n",
       "      flex-wrap:wrap;\n",
       "      gap: 12px;\n",
       "    }\n",
       "\n",
       "    .colab-df-convert {\n",
       "      background-color: #E8F0FE;\n",
       "      border: none;\n",
       "      border-radius: 50%;\n",
       "      cursor: pointer;\n",
       "      display: none;\n",
       "      fill: #1967D2;\n",
       "      height: 32px;\n",
       "      padding: 0 0 0 0;\n",
       "      width: 32px;\n",
       "    }\n",
       "\n",
       "    .colab-df-convert:hover {\n",
       "      background-color: #E2EBFA;\n",
       "      box-shadow: 0px 1px 2px rgba(60, 64, 67, 0.3), 0px 1px 3px 1px rgba(60, 64, 67, 0.15);\n",
       "      fill: #174EA6;\n",
       "    }\n",
       "\n",
       "    [theme=dark] .colab-df-convert {\n",
       "      background-color: #3B4455;\n",
       "      fill: #D2E3FC;\n",
       "    }\n",
       "\n",
       "    [theme=dark] .colab-df-convert:hover {\n",
       "      background-color: #434B5C;\n",
       "      box-shadow: 0px 1px 3px 1px rgba(0, 0, 0, 0.15);\n",
       "      filter: drop-shadow(0px 1px 2px rgba(0, 0, 0, 0.3));\n",
       "      fill: #FFFFFF;\n",
       "    }\n",
       "  </style>\n",
       "\n",
       "      <script>\n",
       "        const buttonEl =\n",
       "          document.querySelector('#df-9cbe5396-29dd-4198-a611-5bbfe32f0e1b button.colab-df-convert');\n",
       "        buttonEl.style.display =\n",
       "          google.colab.kernel.accessAllowed ? 'block' : 'none';\n",
       "\n",
       "        async function convertToInteractive(key) {\n",
       "          const element = document.querySelector('#df-9cbe5396-29dd-4198-a611-5bbfe32f0e1b');\n",
       "          const dataTable =\n",
       "            await google.colab.kernel.invokeFunction('convertToInteractive',\n",
       "                                                     [key], {});\n",
       "          if (!dataTable) return;\n",
       "\n",
       "          const docLinkHtml = 'Like what you see? Visit the ' +\n",
       "            '<a target=\"_blank\" href=https://colab.research.google.com/notebooks/data_table.ipynb>data table notebook</a>'\n",
       "            + ' to learn more about interactive tables.';\n",
       "          element.innerHTML = '';\n",
       "          dataTable['output_type'] = 'display_data';\n",
       "          await google.colab.output.renderOutput(dataTable, element);\n",
       "          const docLink = document.createElement('div');\n",
       "          docLink.innerHTML = docLinkHtml;\n",
       "          element.appendChild(docLink);\n",
       "        }\n",
       "      </script>\n",
       "    </div>\n",
       "  </div>\n",
       "  "
      ],
      "text/plain": [
       "            id            movie_title  \\\n",
       "23     11518.0            Mohabbatein   \n",
       "24     16987.0  Kaho Naa... Pyaar Hai   \n",
       "25     46406.0        Mission Kashmir   \n",
       "26    161223.0  Dulhan Hum Le Jayenge   \n",
       "27    166231.0                Refugee   \n",
       "...        ...                    ...   \n",
       "2648  601635.0     Laal Singh Chaddha   \n",
       "2649  796207.0               Dobaaraa   \n",
       "2650       NaN               Liger[a]   \n",
       "2652  496331.0             Brahmāstra   \n",
       "2653  851783.0           Vikram Vedha   \n",
       "\n",
       "                                               overview          director  \\\n",
       "23    At a prestigious all-male university, three fr...               NaN   \n",
       "24    Life is paradise for an upright young man and ...               NaN   \n",
       "25    A police officer adopts the son and sole survi...               NaN   \n",
       "26    Sapna has lost her parents at an early age and...               NaN   \n",
       "27    The films tells the story of an un-named India...               NaN   \n",
       "...                                                 ...               ...   \n",
       "2648  Events in India's history unfold through the p...    Advait Chandan   \n",
       "2649                                                NaN    Anurag Kashyap   \n",
       "2650                                                NaN    Puri Jagannadh   \n",
       "2652                                                NaN      Ayan Mukerji   \n",
       "2653  Vikram is a brave and honest police inspector ...  Pushkar–Gayathri   \n",
       "\n",
       "                                                actor_1 actor_2 actor_3  \\\n",
       "23                                                  NaN     NaN     NaN   \n",
       "24                                                  NaN     NaN     NaN   \n",
       "25                                                  NaN     NaN     NaN   \n",
       "26                                                  NaN     NaN     NaN   \n",
       "27                                                  NaN     NaN     NaN   \n",
       "...                                                 ...     ...     ...   \n",
       "2648             Aamir KhanKareena KapoorNaga Chaitanya     NaN     NaN   \n",
       "2649                         Taapsee PannuPavail Gulati     NaN     NaN   \n",
       "2650           Vijay DeverakondaAnanya PandeyMike Tyson     NaN     NaN   \n",
       "2652  Amitabh BachchanRanbir KapoorAlia BhattMouni R...     NaN     NaN   \n",
       "2653            Saif Ali KhanHrithik RoshanRadhika Apte     NaN     NaN   \n",
       "\n",
       "                               genres  popularity  year  vote_average  \\\n",
       "23                      Drama Romance       9.734  2000           7.0   \n",
       "24                      Romance Drama       6.129  2000           6.9   \n",
       "25              Action Drama Thriller       3.105  2000           6.3   \n",
       "26                     Comedy Romance       2.460  2000           5.7   \n",
       "27                Drama Music Romance       2.607  2000           6.1   \n",
       "...                               ...         ...   ...           ...   \n",
       "2648             Drama Comedy Romance       2.586  2022           NaN   \n",
       "2649  Science Fiction Thriller Horror       0.932  2022           NaN   \n",
       "2650                              NaN         NaN  2022           NaN   \n",
       "2652         Adventure Action Fantasy       1.789  2022           NaN   \n",
       "2653            Action Crime Thriller       1.409  2022           NaN   \n",
       "\n",
       "      vote_count  \n",
       "23         171.0  \n",
       "24          97.0  \n",
       "25          41.0  \n",
       "26          21.0  \n",
       "27          13.0  \n",
       "...          ...  \n",
       "2648         NaN  \n",
       "2649         NaN  \n",
       "2650         NaN  \n",
       "2652         NaN  \n",
       "2653         NaN  \n",
       "\n",
       "[2098 rows x 12 columns]"
      ]
     },
     "execution_count": 79,
     "metadata": {},
     "output_type": "execute_result"
    }
   ],
   "source": [
    "data = data[data['id']!=np.NaN]\n",
    "data"
   ]
  },
  {
   "cell_type": "code",
   "execution_count": 1,
   "metadata": {
    "id": "eaLODS3Ve7W-"
   },
   "outputs": [
    {
     "ename": "NameError",
     "evalue": "name 'data' is not defined",
     "output_type": "error",
     "traceback": [
      "\u001b[1;31m---------------------------------------------------------------------------\u001b[0m",
      "\u001b[1;31mNameError\u001b[0m                                 Traceback (most recent call last)",
      "\u001b[1;32m~\\AppData\\Local\\Temp\\ipykernel_23248\\3466504083.py\u001b[0m in \u001b[0;36m<module>\u001b[1;34m\u001b[0m\n\u001b[1;32m----> 1\u001b[1;33m \u001b[0mdata\u001b[0m \u001b[1;33m=\u001b[0m \u001b[0mdata\u001b[0m\u001b[1;33m[\u001b[0m\u001b[0mdata\u001b[0m\u001b[1;33m[\u001b[0m\u001b[1;34m'id'\u001b[0m\u001b[1;33m]\u001b[0m\u001b[1;33m.\u001b[0m\u001b[0misna\u001b[0m\u001b[1;33m(\u001b[0m\u001b[1;33m)\u001b[0m \u001b[1;33m==\u001b[0m \u001b[1;32mFalse\u001b[0m\u001b[1;33m]\u001b[0m\u001b[1;33m\u001b[0m\u001b[1;33m\u001b[0m\u001b[0m\n\u001b[0m",
      "\u001b[1;31mNameError\u001b[0m: name 'data' is not defined"
     ]
    }
   ],
   "source": [
    "data = data[data['id'].isna() == False]"
   ]
  },
  {
   "cell_type": "code",
   "execution_count": 2,
   "metadata": {
    "colab": {
     "base_uri": "https://localhost:8080/"
    },
    "id": "wFf7H2IzcNdC",
    "outputId": "8e404726-c2e3-44af-e93f-e18e37c16298"
   },
   "outputs": [
    {
     "ename": "NameError",
     "evalue": "name 'data' is not defined",
     "output_type": "error",
     "traceback": [
      "\u001b[1;31m---------------------------------------------------------------------------\u001b[0m",
      "\u001b[1;31mNameError\u001b[0m                                 Traceback (most recent call last)",
      "\u001b[1;32m~\\AppData\\Local\\Temp\\ipykernel_23248\\1266705919.py\u001b[0m in \u001b[0;36m<module>\u001b[1;34m\u001b[0m\n\u001b[1;32m----> 1\u001b[1;33m \u001b[0mdata\u001b[0m\u001b[1;33m.\u001b[0m\u001b[0misna\u001b[0m\u001b[1;33m(\u001b[0m\u001b[1;33m)\u001b[0m\u001b[1;33m.\u001b[0m\u001b[0msum\u001b[0m\u001b[1;33m(\u001b[0m\u001b[1;33m)\u001b[0m\u001b[1;33m\u001b[0m\u001b[1;33m\u001b[0m\u001b[0m\n\u001b[0m",
      "\u001b[1;31mNameError\u001b[0m: name 'data' is not defined"
     ]
    }
   ],
   "source": [
    "data.isna().sum()"
   ]
  },
  {
   "cell_type": "code",
   "execution_count": null,
   "metadata": {
    "id": "-ekNCPvifhLh"
   },
   "outputs": [],
   "source": [
    "data = data[data['actor_1'].isna() == False]"
   ]
  },
  {
   "cell_type": "code",
   "execution_count": null,
   "metadata": {
    "colab": {
     "base_uri": "https://localhost:8080/"
    },
    "id": "4YRK4JkAfhZO",
    "outputId": "f4f51e20-433a-477b-f934-7c7ec11be0ba"
   },
   "outputs": [
    {
     "data": {
      "text/plain": [
       "id                0\n",
       "movie_title       0\n",
       "overview         20\n",
       "director         13\n",
       "actor_1           0\n",
       "actor_2         434\n",
       "actor_3         638\n",
       "genres          161\n",
       "popularity        0\n",
       "year              0\n",
       "vote_average    268\n",
       "vote_count      268\n",
       "dtype: int64"
      ]
     },
     "execution_count": 86,
     "metadata": {},
     "output_type": "execute_result"
    }
   ],
   "source": [
    "data.isna().sum()"
   ]
  },
  {
   "cell_type": "code",
   "execution_count": null,
   "metadata": {
    "id": "6yVAm_fRfhco"
   },
   "outputs": [],
   "source": [
    "data = data[data['director'].isna()==False]"
   ]
  },
  {
   "cell_type": "code",
   "execution_count": null,
   "metadata": {
    "id": "wxmYs7V_gG37"
   },
   "outputs": [],
   "source": [
    "data = data[data['overview'].isna()==False]"
   ]
  },
  {
   "cell_type": "code",
   "execution_count": null,
   "metadata": {
    "colab": {
     "base_uri": "https://localhost:8080/"
    },
    "id": "1AF1zpwUgGJO",
    "outputId": "9729b178-7664-4a80-aecd-9ac646d10946"
   },
   "outputs": [
    {
     "data": {
      "text/plain": [
       "id                0\n",
       "movie_title       0\n",
       "overview          0\n",
       "director          0\n",
       "actor_1           0\n",
       "actor_2         421\n",
       "actor_3         617\n",
       "genres          151\n",
       "popularity        0\n",
       "year              0\n",
       "vote_average    245\n",
       "vote_count      245\n",
       "dtype: int64"
      ]
     },
     "execution_count": 90,
     "metadata": {},
     "output_type": "execute_result"
    }
   ],
   "source": [
    "data.isna().sum()"
   ]
  },
  {
   "cell_type": "code",
   "execution_count": null,
   "metadata": {
    "id": "kTHe9fHFga4u"
   },
   "outputs": [],
   "source": [
    "data = data[data['genres'].isna()==False]"
   ]
  },
  {
   "cell_type": "code",
   "execution_count": null,
   "metadata": {
    "colab": {
     "base_uri": "https://localhost:8080/"
    },
    "id": "zcIrcGn4VMZW",
    "outputId": "71505014-7524-4e1f-e7ad-2da852a2c713"
   },
   "outputs": [
    {
     "data": {
      "text/plain": [
       "id                0\n",
       "movie_title       0\n",
       "overview          0\n",
       "director          0\n",
       "actor_1           0\n",
       "actor_2         398\n",
       "actor_3         571\n",
       "genres            0\n",
       "popularity        0\n",
       "year              0\n",
       "vote_average    177\n",
       "vote_count      176\n",
       "dtype: int64"
      ]
     },
     "execution_count": 94,
     "metadata": {},
     "output_type": "execute_result"
    }
   ],
   "source": [
    "data.isna().sum()"
   ]
  },
  {
   "cell_type": "code",
   "execution_count": null,
   "metadata": {
    "id": "cX9Zeq5oiC5w"
   },
   "outputs": [],
   "source": [
    "data = data[data['actor_2'].isna()==False]"
   ]
  },
  {
   "cell_type": "code",
   "execution_count": null,
   "metadata": {
    "colab": {
     "base_uri": "https://localhost:8080/"
    },
    "id": "g6NeZjv_iLAG",
    "outputId": "3e031054-fd12-4c1b-d291-2f7b8b7c5bd7"
   },
   "outputs": [
    {
     "data": {
      "text/plain": [
       "id                0\n",
       "movie_title       0\n",
       "overview          0\n",
       "director          0\n",
       "actor_1           0\n",
       "actor_2           0\n",
       "actor_3         173\n",
       "genres            0\n",
       "popularity        0\n",
       "year              0\n",
       "vote_average    120\n",
       "vote_count      120\n",
       "dtype: int64"
      ]
     },
     "execution_count": 97,
     "metadata": {},
     "output_type": "execute_result"
    }
   ],
   "source": [
    "data.isna().sum()"
   ]
  },
  {
   "cell_type": "code",
   "execution_count": null,
   "metadata": {
    "id": "B_jJjfTpkC8P"
   },
   "outputs": [],
   "source": [
    "df = data"
   ]
  },
  {
   "cell_type": "code",
   "execution_count": null,
   "metadata": {
    "id": "0s-RgCJeifhT"
   },
   "outputs": [],
   "source": [
    "df['actor_3'] = df['actor_3'].replace(np.nan, 'unknown')\n",
    "df['movie_title'] = df['movie_title'].str.lower()\n",
    "df['describe'] = df['actor_1'] + ' ' + df['actor_2'] + ' '+ df['actor_3'] + ' '+ df['director'] + ' ' + df['genres'] + ' '  + df['popularity'].map(str)"
   ]
  },
  {
   "cell_type": "code",
   "execution_count": null,
   "metadata": {
    "colab": {
     "base_uri": "https://localhost:8080/",
     "height": 1000
    },
    "id": "Hso9V9iKirAQ",
    "outputId": "e8e4d720-50f8-4323-9603-c307424726eb"
   },
   "outputs": [
    {
     "data": {
      "text/html": [
       "\n",
       "  <div id=\"df-e58346de-b5e4-40f8-986a-8609eca3beab\">\n",
       "    <div class=\"colab-df-container\">\n",
       "      <div>\n",
       "<style scoped>\n",
       "    .dataframe tbody tr th:only-of-type {\n",
       "        vertical-align: middle;\n",
       "    }\n",
       "\n",
       "    .dataframe tbody tr th {\n",
       "        vertical-align: top;\n",
       "    }\n",
       "\n",
       "    .dataframe thead th {\n",
       "        text-align: right;\n",
       "    }\n",
       "</style>\n",
       "<table border=\"1\" class=\"dataframe\">\n",
       "  <thead>\n",
       "    <tr style=\"text-align: right;\">\n",
       "      <th></th>\n",
       "      <th>id</th>\n",
       "      <th>movie_title</th>\n",
       "      <th>overview</th>\n",
       "      <th>director</th>\n",
       "      <th>actor_1</th>\n",
       "      <th>actor_2</th>\n",
       "      <th>actor_3</th>\n",
       "      <th>genres</th>\n",
       "      <th>popularity</th>\n",
       "      <th>year</th>\n",
       "      <th>vote_average</th>\n",
       "      <th>vote_count</th>\n",
       "      <th>describe</th>\n",
       "    </tr>\n",
       "  </thead>\n",
       "  <tbody>\n",
       "    <tr>\n",
       "      <th>35</th>\n",
       "      <td>418655.0</td>\n",
       "      <td>anjaane</td>\n",
       "      <td>Laxmi finds an abandoned baby at a temple and ...</td>\n",
       "      <td>Ravi Rai</td>\n",
       "      <td>Raveena Tandon</td>\n",
       "      <td>Vivek Mushran</td>\n",
       "      <td>unknown</td>\n",
       "      <td>Drama</td>\n",
       "      <td>0.600</td>\n",
       "      <td>2000</td>\n",
       "      <td>10.0</td>\n",
       "      <td>1.0</td>\n",
       "      <td>Raveena Tandon Vivek Mushran unknown Ravi Rai ...</td>\n",
       "    </tr>\n",
       "    <tr>\n",
       "      <th>37</th>\n",
       "      <td>413278.0</td>\n",
       "      <td>apradhi kaun</td>\n",
       "      <td>A wealthy man, suspected of murder, is killed ...</td>\n",
       "      <td>Mohan Bhakri</td>\n",
       "      <td>Ishrat Ali</td>\n",
       "      <td>Shagufta Ali</td>\n",
       "      <td>unknown</td>\n",
       "      <td>Thriller Mystery Drama</td>\n",
       "      <td>0.600</td>\n",
       "      <td>2000</td>\n",
       "      <td>8.0</td>\n",
       "      <td>1.0</td>\n",
       "      <td>Ishrat Ali Shagufta Ali unknown Mohan Bhakri T...</td>\n",
       "    </tr>\n",
       "    <tr>\n",
       "      <th>39</th>\n",
       "      <td>302309.0</td>\n",
       "      <td>baaghi</td>\n",
       "      <td>Growing up in Mumbai, Surya is in awe of a pow...</td>\n",
       "      <td>Rajesh Kumar Singh</td>\n",
       "      <td>Sanjay Dutt</td>\n",
       "      <td>Manisha Koirala</td>\n",
       "      <td>unknown</td>\n",
       "      <td>Romance Crime</td>\n",
       "      <td>0.840</td>\n",
       "      <td>2000</td>\n",
       "      <td>4.5</td>\n",
       "      <td>2.0</td>\n",
       "      <td>Sanjay Dutt Manisha Koirala unknown Rajesh Kum...</td>\n",
       "    </tr>\n",
       "    <tr>\n",
       "      <th>43</th>\n",
       "      <td>11854.0</td>\n",
       "      <td>kuch kuch hota hai</td>\n",
       "      <td>Anjali is left heartbroken when her best frien...</td>\n",
       "      <td>Karan Johar</td>\n",
       "      <td>Shahrukh Khan</td>\n",
       "      <td>Kajol</td>\n",
       "      <td>Rani Mukerji</td>\n",
       "      <td>Romance Drama</td>\n",
       "      <td>13.007</td>\n",
       "      <td>2000</td>\n",
       "      <td>7.7</td>\n",
       "      <td>309.0</td>\n",
       "      <td>Shahrukh Khan Kajol Rani Mukerji Karan Johar R...</td>\n",
       "    </tr>\n",
       "    <tr>\n",
       "      <th>45</th>\n",
       "      <td>271484.0</td>\n",
       "      <td>beti no.1</td>\n",
       "      <td>This warmhearted comedy takes place in a house...</td>\n",
       "      <td>Rama Rao Tatineni</td>\n",
       "      <td>Govinda</td>\n",
       "      <td>Rambha</td>\n",
       "      <td>unknown</td>\n",
       "      <td>Comedy Drama Family Romance</td>\n",
       "      <td>0.711</td>\n",
       "      <td>2000</td>\n",
       "      <td>3.5</td>\n",
       "      <td>4.0</td>\n",
       "      <td>Govinda Rambha unknown Rama Rao Tatineni Comed...</td>\n",
       "    </tr>\n",
       "    <tr>\n",
       "      <th>...</th>\n",
       "      <td>...</td>\n",
       "      <td>...</td>\n",
       "      <td>...</td>\n",
       "      <td>...</td>\n",
       "      <td>...</td>\n",
       "      <td>...</td>\n",
       "      <td>...</td>\n",
       "      <td>...</td>\n",
       "      <td>...</td>\n",
       "      <td>...</td>\n",
       "      <td>...</td>\n",
       "      <td>...</td>\n",
       "      <td>...</td>\n",
       "    </tr>\n",
       "    <tr>\n",
       "      <th>2168</th>\n",
       "      <td>454776.0</td>\n",
       "      <td>fukrey returns</td>\n",
       "      <td>A year after the first movie, the four friends...</td>\n",
       "      <td>Mrighdeep Singh Lamba</td>\n",
       "      <td>Pulkit Samrat</td>\n",
       "      <td>Priya Anand</td>\n",
       "      <td>Ali Fazal</td>\n",
       "      <td>Comedy Drama</td>\n",
       "      <td>2.262</td>\n",
       "      <td>2017</td>\n",
       "      <td>6.6</td>\n",
       "      <td>24.0</td>\n",
       "      <td>Pulkit Samrat Priya Anand Ali Fazal Mrighdeep ...</td>\n",
       "    </tr>\n",
       "    <tr>\n",
       "      <th>2170</th>\n",
       "      <td>496626.0</td>\n",
       "      <td>sallu ki shaadi</td>\n",
       "      <td>Sallu ki Shaadi is an upcoming Indian romantic...</td>\n",
       "      <td>Mohammad Israr Ansari</td>\n",
       "      <td>Zeenat Aman</td>\n",
       "      <td>Kiran Kumar</td>\n",
       "      <td>Asrani</td>\n",
       "      <td>Comedy</td>\n",
       "      <td>0.600</td>\n",
       "      <td>2017</td>\n",
       "      <td>NaN</td>\n",
       "      <td>NaN</td>\n",
       "      <td>Zeenat Aman Kiran Kumar Asrani Mohammad Israr ...</td>\n",
       "    </tr>\n",
       "    <tr>\n",
       "      <th>2171</th>\n",
       "      <td>194522.0</td>\n",
       "      <td>monsoon shootout</td>\n",
       "      <td>A rookie cop joins the crime branch of the Mum...</td>\n",
       "      <td>Amit Kumar</td>\n",
       "      <td>Nawazuddin Siddiqui</td>\n",
       "      <td>Vijay Varma &amp; Tannishtha Chatterjee</td>\n",
       "      <td>unknown</td>\n",
       "      <td>Thriller</td>\n",
       "      <td>1.465</td>\n",
       "      <td>2017</td>\n",
       "      <td>6.6</td>\n",
       "      <td>14.0</td>\n",
       "      <td>Nawazuddin Siddiqui Vijay Varma &amp; Tannishtha C...</td>\n",
       "    </tr>\n",
       "    <tr>\n",
       "      <th>2192</th>\n",
       "      <td>494211.0</td>\n",
       "      <td>3 storeys</td>\n",
       "      <td>3 Storeys is an 2018 Hindi thriller drama film...</td>\n",
       "      <td>Arjun Mukerjee</td>\n",
       "      <td>Richa Chaddha,Pulkit Samrat,Sharman Joshi,Renu...</td>\n",
       "      <td>Masumeh Makhija,Laksh Singh,Aisha Ahmed,Ankit ...</td>\n",
       "      <td>unknown</td>\n",
       "      <td>Drama</td>\n",
       "      <td>0.600</td>\n",
       "      <td>2018</td>\n",
       "      <td>6.7</td>\n",
       "      <td>3.0</td>\n",
       "      <td>Richa Chaddha,Pulkit Samrat,Sharman Joshi,Renu...</td>\n",
       "    </tr>\n",
       "    <tr>\n",
       "      <th>2331</th>\n",
       "      <td>594163.0</td>\n",
       "      <td>blackboard vs whiteboard</td>\n",
       "      <td>When a news reporter arrives at the school and...</td>\n",
       "      <td>Tarun S. Bisht</td>\n",
       "      <td>Raghubir Yadav</td>\n",
       "      <td>Ashok Samarth</td>\n",
       "      <td>Akhilendra Mishra</td>\n",
       "      <td>Family</td>\n",
       "      <td>1.140</td>\n",
       "      <td>2019</td>\n",
       "      <td>7.0</td>\n",
       "      <td>1.0</td>\n",
       "      <td>Raghubir Yadav Ashok Samarth Akhilendra Mishra...</td>\n",
       "    </tr>\n",
       "  </tbody>\n",
       "</table>\n",
       "<p>1177 rows × 13 columns</p>\n",
       "</div>\n",
       "      <button class=\"colab-df-convert\" onclick=\"convertToInteractive('df-e58346de-b5e4-40f8-986a-8609eca3beab')\"\n",
       "              title=\"Convert this dataframe to an interactive table.\"\n",
       "              style=\"display:none;\">\n",
       "        \n",
       "  <svg xmlns=\"http://www.w3.org/2000/svg\" height=\"24px\"viewBox=\"0 0 24 24\"\n",
       "       width=\"24px\">\n",
       "    <path d=\"M0 0h24v24H0V0z\" fill=\"none\"/>\n",
       "    <path d=\"M18.56 5.44l.94 2.06.94-2.06 2.06-.94-2.06-.94-.94-2.06-.94 2.06-2.06.94zm-11 1L8.5 8.5l.94-2.06 2.06-.94-2.06-.94L8.5 2.5l-.94 2.06-2.06.94zm10 10l.94 2.06.94-2.06 2.06-.94-2.06-.94-.94-2.06-.94 2.06-2.06.94z\"/><path d=\"M17.41 7.96l-1.37-1.37c-.4-.4-.92-.59-1.43-.59-.52 0-1.04.2-1.43.59L10.3 9.45l-7.72 7.72c-.78.78-.78 2.05 0 2.83L4 21.41c.39.39.9.59 1.41.59.51 0 1.02-.2 1.41-.59l7.78-7.78 2.81-2.81c.8-.78.8-2.07 0-2.86zM5.41 20L4 18.59l7.72-7.72 1.47 1.35L5.41 20z\"/>\n",
       "  </svg>\n",
       "      </button>\n",
       "      \n",
       "  <style>\n",
       "    .colab-df-container {\n",
       "      display:flex;\n",
       "      flex-wrap:wrap;\n",
       "      gap: 12px;\n",
       "    }\n",
       "\n",
       "    .colab-df-convert {\n",
       "      background-color: #E8F0FE;\n",
       "      border: none;\n",
       "      border-radius: 50%;\n",
       "      cursor: pointer;\n",
       "      display: none;\n",
       "      fill: #1967D2;\n",
       "      height: 32px;\n",
       "      padding: 0 0 0 0;\n",
       "      width: 32px;\n",
       "    }\n",
       "\n",
       "    .colab-df-convert:hover {\n",
       "      background-color: #E2EBFA;\n",
       "      box-shadow: 0px 1px 2px rgba(60, 64, 67, 0.3), 0px 1px 3px 1px rgba(60, 64, 67, 0.15);\n",
       "      fill: #174EA6;\n",
       "    }\n",
       "\n",
       "    [theme=dark] .colab-df-convert {\n",
       "      background-color: #3B4455;\n",
       "      fill: #D2E3FC;\n",
       "    }\n",
       "\n",
       "    [theme=dark] .colab-df-convert:hover {\n",
       "      background-color: #434B5C;\n",
       "      box-shadow: 0px 1px 3px 1px rgba(0, 0, 0, 0.15);\n",
       "      filter: drop-shadow(0px 1px 2px rgba(0, 0, 0, 0.3));\n",
       "      fill: #FFFFFF;\n",
       "    }\n",
       "  </style>\n",
       "\n",
       "      <script>\n",
       "        const buttonEl =\n",
       "          document.querySelector('#df-e58346de-b5e4-40f8-986a-8609eca3beab button.colab-df-convert');\n",
       "        buttonEl.style.display =\n",
       "          google.colab.kernel.accessAllowed ? 'block' : 'none';\n",
       "\n",
       "        async function convertToInteractive(key) {\n",
       "          const element = document.querySelector('#df-e58346de-b5e4-40f8-986a-8609eca3beab');\n",
       "          const dataTable =\n",
       "            await google.colab.kernel.invokeFunction('convertToInteractive',\n",
       "                                                     [key], {});\n",
       "          if (!dataTable) return;\n",
       "\n",
       "          const docLinkHtml = 'Like what you see? Visit the ' +\n",
       "            '<a target=\"_blank\" href=https://colab.research.google.com/notebooks/data_table.ipynb>data table notebook</a>'\n",
       "            + ' to learn more about interactive tables.';\n",
       "          element.innerHTML = '';\n",
       "          dataTable['output_type'] = 'display_data';\n",
       "          await google.colab.output.renderOutput(dataTable, element);\n",
       "          const docLink = document.createElement('div');\n",
       "          docLink.innerHTML = docLinkHtml;\n",
       "          element.appendChild(docLink);\n",
       "        }\n",
       "      </script>\n",
       "    </div>\n",
       "  </div>\n",
       "  "
      ],
      "text/plain": [
       "            id               movie_title  \\\n",
       "35    418655.0                   anjaane   \n",
       "37    413278.0              apradhi kaun   \n",
       "39    302309.0                    baaghi   \n",
       "43     11854.0        kuch kuch hota hai   \n",
       "45    271484.0                 beti no.1   \n",
       "...        ...                       ...   \n",
       "2168  454776.0            fukrey returns   \n",
       "2170  496626.0           sallu ki shaadi   \n",
       "2171  194522.0          monsoon shootout   \n",
       "2192  494211.0                 3 storeys   \n",
       "2331  594163.0  blackboard vs whiteboard   \n",
       "\n",
       "                                               overview  \\\n",
       "35    Laxmi finds an abandoned baby at a temple and ...   \n",
       "37    A wealthy man, suspected of murder, is killed ...   \n",
       "39    Growing up in Mumbai, Surya is in awe of a pow...   \n",
       "43    Anjali is left heartbroken when her best frien...   \n",
       "45    This warmhearted comedy takes place in a house...   \n",
       "...                                                 ...   \n",
       "2168  A year after the first movie, the four friends...   \n",
       "2170  Sallu ki Shaadi is an upcoming Indian romantic...   \n",
       "2171  A rookie cop joins the crime branch of the Mum...   \n",
       "2192  3 Storeys is an 2018 Hindi thriller drama film...   \n",
       "2331  When a news reporter arrives at the school and...   \n",
       "\n",
       "                   director  \\\n",
       "35                 Ravi Rai   \n",
       "37             Mohan Bhakri   \n",
       "39       Rajesh Kumar Singh   \n",
       "43              Karan Johar   \n",
       "45        Rama Rao Tatineni   \n",
       "...                     ...   \n",
       "2168  Mrighdeep Singh Lamba   \n",
       "2170  Mohammad Israr Ansari   \n",
       "2171             Amit Kumar   \n",
       "2192         Arjun Mukerjee   \n",
       "2331         Tarun S. Bisht   \n",
       "\n",
       "                                                actor_1  \\\n",
       "35                                       Raveena Tandon   \n",
       "37                                           Ishrat Ali   \n",
       "39                                          Sanjay Dutt   \n",
       "43                                        Shahrukh Khan   \n",
       "45                                              Govinda   \n",
       "...                                                 ...   \n",
       "2168                                      Pulkit Samrat   \n",
       "2170                                        Zeenat Aman   \n",
       "2171                                Nawazuddin Siddiqui   \n",
       "2192  Richa Chaddha,Pulkit Samrat,Sharman Joshi,Renu...   \n",
       "2331                                     Raghubir Yadav   \n",
       "\n",
       "                                                actor_2            actor_3  \\\n",
       "35                                        Vivek Mushran            unknown   \n",
       "37                                         Shagufta Ali            unknown   \n",
       "39                                      Manisha Koirala            unknown   \n",
       "43                                                Kajol       Rani Mukerji   \n",
       "45                                               Rambha            unknown   \n",
       "...                                                 ...                ...   \n",
       "2168                                        Priya Anand          Ali Fazal   \n",
       "2170                                        Kiran Kumar             Asrani   \n",
       "2171                Vijay Varma & Tannishtha Chatterjee            unknown   \n",
       "2192  Masumeh Makhija,Laksh Singh,Aisha Ahmed,Ankit ...            unknown   \n",
       "2331                                      Ashok Samarth  Akhilendra Mishra   \n",
       "\n",
       "                           genres  popularity  year  vote_average  vote_count  \\\n",
       "35                          Drama       0.600  2000          10.0         1.0   \n",
       "37         Thriller Mystery Drama       0.600  2000           8.0         1.0   \n",
       "39                  Romance Crime       0.840  2000           4.5         2.0   \n",
       "43                  Romance Drama      13.007  2000           7.7       309.0   \n",
       "45    Comedy Drama Family Romance       0.711  2000           3.5         4.0   \n",
       "...                           ...         ...   ...           ...         ...   \n",
       "2168                 Comedy Drama       2.262  2017           6.6        24.0   \n",
       "2170                       Comedy       0.600  2017           NaN         NaN   \n",
       "2171                     Thriller       1.465  2017           6.6        14.0   \n",
       "2192                        Drama       0.600  2018           6.7         3.0   \n",
       "2331                       Family       1.140  2019           7.0         1.0   \n",
       "\n",
       "                                               describe  \n",
       "35    Raveena Tandon Vivek Mushran unknown Ravi Rai ...  \n",
       "37    Ishrat Ali Shagufta Ali unknown Mohan Bhakri T...  \n",
       "39    Sanjay Dutt Manisha Koirala unknown Rajesh Kum...  \n",
       "43    Shahrukh Khan Kajol Rani Mukerji Karan Johar R...  \n",
       "45    Govinda Rambha unknown Rama Rao Tatineni Comed...  \n",
       "...                                                 ...  \n",
       "2168  Pulkit Samrat Priya Anand Ali Fazal Mrighdeep ...  \n",
       "2170  Zeenat Aman Kiran Kumar Asrani Mohammad Israr ...  \n",
       "2171  Nawazuddin Siddiqui Vijay Varma & Tannishtha C...  \n",
       "2192  Richa Chaddha,Pulkit Samrat,Sharman Joshi,Renu...  \n",
       "2331  Raghubir Yadav Ashok Samarth Akhilendra Mishra...  \n",
       "\n",
       "[1177 rows x 13 columns]"
      ]
     },
     "execution_count": 106,
     "metadata": {},
     "output_type": "execute_result"
    }
   ],
   "source": [
    "df"
   ]
  },
  {
   "cell_type": "code",
   "execution_count": null,
   "metadata": {
    "id": "LqZz-TwXFBOM"
   },
   "outputs": [],
   "source": [
    "df.to_csv('bollywood_data.csv',index=False)"
   ]
  },
  {
   "cell_type": "code",
   "execution_count": null,
   "metadata": {
    "id": "dWHhAJKyiXxs"
   },
   "outputs": [],
   "source": []
  }
 ],
 "metadata": {
  "colab": {
   "name": "Bollywood_Data_Preprocessing.ipynb",
   "provenance": []
  },
  "kernelspec": {
   "display_name": "Python 3 (ipykernel)",
   "language": "python",
   "name": "python3"
  },
  "language_info": {
   "codemirror_mode": {
    "name": "ipython",
    "version": 3
   },
   "file_extension": ".py",
   "mimetype": "text/x-python",
   "name": "python",
   "nbconvert_exporter": "python",
   "pygments_lexer": "ipython3",
   "version": "3.7.4"
  }
 },
 "nbformat": 4,
 "nbformat_minor": 1
}
